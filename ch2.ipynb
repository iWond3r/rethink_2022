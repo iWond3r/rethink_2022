{
 "cells": [
  {
   "cell_type": "code",
   "execution_count": 8,
   "metadata": {},
   "outputs": [],
   "source": [
    "import pymc3 as pm\n",
    "import arviz as az\n",
    "import matplotlib.pyplot as plt\n",
    "import numpy as np\n",
    "import scipy.stats as stats"
   ]
  },
  {
   "cell_type": "code",
   "execution_count": 9,
   "metadata": {},
   "outputs": [
    {
     "data": {
      "text/plain": [
       "array([0.  , 0.15, 0.4 , 0.45, 0.  ])"
      ]
     },
     "execution_count": 9,
     "metadata": {},
     "output_type": "execute_result"
    }
   ],
   "source": [
    "#2.1\n",
    "ways = np.array([0, 3, 8, 9, 0])\n",
    "ways/ways.sum()"
   ]
  },
  {
   "cell_type": "code",
   "execution_count": 10,
   "metadata": {},
   "outputs": [
    {
     "data": {
      "text/plain": [
       "0.16406250000000003"
      ]
     },
     "execution_count": 10,
     "metadata": {},
     "output_type": "execute_result"
    }
   ],
   "source": [
    "#2.2\n",
    "probability = stats.binom.pmf(6, n=9, p=0.5)\n",
    "probability\n",
    "# the relative number of ways to get 6 water, holding p at 0.5 and N = Water + Land = 9"
   ]
  },
  {
   "cell_type": "code",
   "execution_count": 11,
   "metadata": {},
   "outputs": [
    {
     "data": {
      "text/plain": [
       "array([5, 5, 5, 5, 5])"
      ]
     },
     "execution_count": 11,
     "metadata": {},
     "output_type": "execute_result"
    }
   ],
   "source": [
    "np.repeat(5, 5)"
   ]
  },
  {
   "cell_type": "code",
   "execution_count": 12,
   "metadata": {},
   "outputs": [
    {
     "data": {
      "text/plain": [
       "array([0.  , 0.25, 0.5 , 0.75, 1.  ])"
      ]
     },
     "execution_count": 12,
     "metadata": {},
     "output_type": "execute_result"
    }
   ],
   "source": [
    "np.linspace(0, 1, 5)"
   ]
  },
  {
   "cell_type": "code",
   "execution_count": 13,
   "metadata": {},
   "outputs": [],
   "source": [
    "#2.3 \n",
    "def posterior_grid_approx(grid_points = 5, success = 6, tosses = 9): \n",
    "# Step 1 - Define the grid. This means you decide how many points to use in estimating the posterior, \n",
    "# and then you make a list of the parameter values on the grid\n",
    "    p_grid = np.linspace(0, 1, grid_points)\n",
    "\n",
    "# define the prior - compute the value of the prior at each parameter value on the grid. \n",
    "    prior = np.repeat(5, grid_points)\n",
    "\n",
    "# compute likelihood at each value in grid\n",
    "    likelihood = stats.binom.pmf(success, tosses, p_grid)\n",
    "\n",
    "# compute product of likelihood and prior\n",
    "    unstd_posterior = likelihood * prior\n",
    "\n",
    "# standardize the posterior, so it sums to 1\n",
    "    posterior = unstd_posterior / unstd_posterior.sum()\n",
    "    return p_grid, posterior"
   ]
  },
  {
   "cell_type": "code",
   "execution_count": 14,
   "metadata": {},
   "outputs": [
    {
     "data": {
      "text/plain": [
       "<matplotlib.legend.Legend at 0x15a7784a9d0>"
      ]
     },
     "execution_count": 14,
     "metadata": {},
     "output_type": "execute_result"
    },
    {
     "data": {
      "image/png": "[encoded data removed]",
      "text/plain": [
       "<Figure size 432x288 with 1 Axes>"
      ]
     },
     "metadata": {
      "needs_background": "light"
     },
     "output_type": "display_data"
    }
   ],
   "source": [
    "#code 2.3\n",
    "points = 20\n",
    "w, n = 6, 9\n",
    "p_grid, posterior = posterior_grid_approx(points, w, n)\n",
    "\n",
    "plt.plot( p_grid, posterior, 'o-', label = f'success = {w} \\ntossess = {n}')\n",
    "plt.xlabel('probability of water', fontsize = 14)\n",
    "plt.ylabel('posterior probability', fontsize = 14)\n",
    "plt.title(f'{points} points')\n",
    "plt.legend(loc = 0)"
   ]
  },
  {
   "cell_type": "code",
   "execution_count": 15,
   "metadata": {},
   "outputs": [
    {
     "data": {
      "text/plain": [
       "array([0, 0, 0, 1, 1, 1, 1, 1, 1])"
      ]
     },
     "execution_count": 15,
     "metadata": {},
     "output_type": "execute_result"
    }
   ],
   "source": [
    "np.repeat( (0,1), (3,6) )"
   ]
  },
  {
   "cell_type": "code",
   "execution_count": 16,
   "metadata": {},
   "outputs": [
    {
     "data": {
      "text/html": [
       "\n",
       "    <div>\n",
       "        <style>\n",
       "            /* Turns off some styling */\n",
       "            progress {\n",
       "                /* gets rid of default border in Firefox and Opera. */\n",
       "                border: none;\n",
       "                /* Needs to be in here for Safari polyfill so background images work as expected. */\n",
       "                background-size: auto;\n",
       "            }\n",
       "            .progress-bar-interrupted, .progress-bar-interrupted::-webkit-progress-bar {\n",
       "                background: #F44336;\n",
       "            }\n",
       "        </style>\n",
       "      <progress value='6' class='' max='6' style='width:300px; height:20px; vertical-align: middle;'></progress>\n",
       "      100.00% [6/6 00:00<00:00 logp = -1.8075, ||grad|| = 1.5]\n",
       "    </div>\n",
       "    "
      ],
      "text/plain": [
       "<IPython.core.display.HTML object>"
      ]
     },
     "metadata": {},
     "output_type": "display_data"
    },
    {
     "name": "stdout",
     "output_type": "stream",
     "text": [
      "\n"
     ]
    },
    {
     "data": {
      "text/plain": [
       "(array(0.66666667), array([0.15713484]))"
      ]
     },
     "execution_count": 16,
     "metadata": {},
     "output_type": "execute_result"
    }
   ],
   "source": [
    "#2.6 computing the posterior using the quadratic approximation\n",
    "\n",
    "data = np.repeat( (0,1), (3,6) )\n",
    "with pm.Model() as normal_aproximation:\n",
    "    p = pm.Uniform('p', 0, 1) #uniform prior\n",
    "    w = pm.Binomial('w', n = len(data), p=p, observed = data.sum()) # binomial likelihood\n",
    "    mean_q = pm.find_MAP()\n",
    "    std_q = ( ( 1/pm.find_hessian(mean_q, vars = [p]) ) ** 0.5)[0]\n",
    "mean_q['p'], std_q  "
   ]
  },
  {
   "cell_type": "code",
   "execution_count": 17,
   "metadata": {},
   "outputs": [
    {
     "data": {
      "text/plain": [
       "array([0.41553484, 0.91779849])"
      ]
     },
     "execution_count": 17,
     "metadata": {},
     "output_type": "execute_result"
    }
   ],
   "source": [
    "norm = stats.norm(mean_q, std_q)\n",
    "prob = 0.89 #89% percentile interval \n",
    "z = stats.norm.ppf([(1-prob)/2, (1+prob)/2])\n",
    "pi = mean_q['p'] + std_q * z\n",
    "pi"
   ]
  },
  {
   "cell_type": "markdown",
   "metadata": {},
   "source": [
    "After all calculations of 2.6, we would say\n",
    "\"Assuming the posterior is Gaussian, it is maximized at mean = .67, and its standard deviation is std = 0.16\" "
   ]
  },
  {
   "cell_type": "code",
   "execution_count": 20,
   "metadata": {},
   "outputs": [
    {
     "data": {
      "text/plain": [
       "Text(0, 0.5, 'Density')"
      ]
     },
     "execution_count": 20,
     "metadata": {},
     "output_type": "execute_result"
    },
    {
     "data": {
      "image/png": "[encoded data removed]",
      "text/plain": [
       "<Figure size 432x288 with 1 Axes>"
      ]
     },
     "metadata": {
      "needs_background": "light"
     },
     "output_type": "display_data"
    }
   ],
   "source": [
    "#2.7 \n",
    "# Analytical Calculation\n",
    "w, n = 6,9\n",
    "x = np.linspace(0,1,100)\n",
    "plt.plot(x, stats.beta.pdf(x, w+1, n-w+1), \n",
    "    label = 'True posterior')\n",
    "\n",
    "#quadratic approximation\n",
    "plt.plot(x, stats.norm.pdf(x, mean_q['p'], std_q), \n",
    "        label = 'Quadratic approximation')\n",
    "\n",
    "plt.legend(loc = 2, fontsize = 10)\n",
    "plt.title(f'n = {n}', fontsize = 14)\n",
    "plt.xlabel('Proportion water', fontsize = 14)\n",
    "plt.ylabel('Density', fontsize = 14)"
   ]
  },
  {
   "cell_type": "code",
   "execution_count": null,
   "metadata": {},
   "outputs": [],
   "source": []
  }
 ],
 "metadata": {
  "interpreter": {
   "hash": "ec239ac05d7a54e4de166a6132f1dd2af226092dfac1355f2fa6dde4d86b1ab1"
  },
  "kernelspec": {
   "display_name": "Python 3.9.7 ('stats')",
   "language": "python",
   "name": "python3"
  },
  "language_info": {
   "codemirror_mode": {
    "name": "ipython",
    "version": 3
   },
   "file_extension": ".py",
   "mimetype": "text/x-python",
   "name": "python",
   "nbconvert_exporter": "python",
   "pygments_lexer": "ipython3",
   "version": "3.9.7"
  },
  "orig_nbformat": 4
 },
 "nbformat": 4,
 "nbformat_minor": 2
}
