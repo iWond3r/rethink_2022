{
 "cells": [
  {
   "cell_type": "code",
   "execution_count": 1,
   "metadata": {},
   "outputs": [
    {
     "name": "stderr",
     "output_type": "stream",
     "text": [
      "WARNING (theano.tensor.blas): Using NumPy C-API based implementation for BLAS functions.\n"
     ]
    }
   ],
   "source": [
    "import pymc3 as pm\n",
    "import arviz as az\n",
    "import matplotlib.pyplot as plt\n",
    "import numpy as np\n",
    "import scipy.stats as stats"
   ]
  },
  {
   "cell_type": "code",
   "execution_count": 3,
   "metadata": {},
   "outputs": [
    {
     "data": {
      "text/plain": [
       "0.08683729433272395"
      ]
     },
     "execution_count": 3,
     "metadata": {},
     "output_type": "execute_result"
    }
   ],
   "source": [
    "pr_positive_vampire = 0.95\n",
    "pr_positive_mortal = 0.01\n",
    "pr_vampire = 0.001\n",
    "\n",
    "pr_positive = pr_positive_vampire*pr_vampire + pr_positive_mortal*(1-pr_vampire)\n",
    "\n",
    "bayes = ( pr_positive_vampire*pr_vampire )/ pr_positive\n",
    "bayes # percent change that the suspect is actually a vampire"
   ]
  },
  {
   "cell_type": "code",
   "execution_count": null,
   "metadata": {},
   "outputs": [],
   "source": [
    "#test "
   ]
  }
 ],
 "metadata": {
  "interpreter": {
   "hash": "ec239ac05d7a54e4de166a6132f1dd2af226092dfac1355f2fa6dde4d86b1ab1"
  },
  "kernelspec": {
   "display_name": "Python 3.9.7 ('stats')",
   "language": "python",
   "name": "python3"
  },
  "language_info": {
   "codemirror_mode": {
    "name": "ipython",
    "version": 3
   },
   "file_extension": ".py",
   "mimetype": "text/x-python",
   "name": "python",
   "nbconvert_exporter": "python",
   "pygments_lexer": "ipython3",
   "version": "3.9.7"
  },
  "orig_nbformat": 4
 },
 "nbformat": 4,
 "nbformat_minor": 2
}
